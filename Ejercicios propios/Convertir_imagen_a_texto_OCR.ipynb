{
 "cells": [
  {
   "cell_type": "code",
   "execution_count": 4,
   "id": "5fe88806",
   "metadata": {},
   "outputs": [
    {
     "name": "stdout",
     "output_type": "stream",
     "text": [
      "Elemento raíz: Comprobante\n",
      "CfdiRelacionados {'TipoRelacion': '01'}\n",
      "Emisor {'Rfc': 'GOYA780416GM0', 'RegimenFiscal': '612'}\n",
      "Receptor {'Rfc': 'LAN7008173R5', 'Nombre': 'a', 'UsoCFDI': 'G01'}\n",
      "Conceptos {}\n",
      "AddendaFE {'TipoCFD': 'a', 'NoComprobante': 'a', 'InformacionExtra': 'a', 'Correos': 'a'}\n"
     ]
    }
   ],
   "source": [
    "import xml.etree.ElementTree as ET\n",
    "\n",
    "# Cargar el archivo XML\n",
    "tree = ET.parse('C:\\\\Users\\\\User1\\\\Downloads\\\\Ejemplos XML Dotnet3.3\\\\Ejemplo_XML_Dotnet3.3 complemento IEDU.xml')\n",
    "root = tree.getroot()\n",
    "\n",
    "# Imprimir la estructura del XML\n",
    "print(\"Elemento raíz:\", root.tag)\n",
    "for child in root:\n",
    "    print(child.tag, child.attrib)\n",
    "\n",
    "# Acceder a elementos específicos y sus atributos\n",
    "for neighbor in root.iter('neighbor'):\n",
    "    print(neighbor.attrib)\n",
    "\n",
    "# Modificar o crear un nuevo XML\n",
    "new_xml = ET.Element(\"nuevo_elemento\")\n",
    "new_child = ET.SubElement(new_xml, \"nuevo_hijo\")\n",
    "new_child.text = \"Contenido del nuevo hijo\"\n",
    "\n",
    "# Escribir el nuevo XML en un archivo\n",
    "ET.ElementTree(new_xml).write(\"nuevo_archivo.xml\")\n"
   ]
  },
  {
   "cell_type": "code",
   "execution_count": null,
   "id": "1db23bcf",
   "metadata": {},
   "outputs": [],
   "source": []
  }
 ],
 "metadata": {
  "kernelspec": {
   "display_name": "Python 3 (ipykernel)",
   "language": "python",
   "name": "python3"
  },
  "language_info": {
   "codemirror_mode": {
    "name": "ipython",
    "version": 3
   },
   "file_extension": ".py",
   "mimetype": "text/x-python",
   "name": "python",
   "nbconvert_exporter": "python",
   "pygments_lexer": "ipython3",
   "version": "3.11.5"
  }
 },
 "nbformat": 4,
 "nbformat_minor": 5
}
