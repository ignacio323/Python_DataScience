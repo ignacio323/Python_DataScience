{
 "cells": [
  {
   "cell_type": "code",
   "execution_count": null,
   "id": "0d1471d8",
   "metadata": {},
   "outputs": [],
   "source": [
    "624329.01/12"
   ]
  },
  {
   "cell_type": "markdown",
   "id": "db369f31",
   "metadata": {},
   "source": [
    "CATEGORIAS RETENCION - ISR  \n",
    "A - De       0.00 → 416,220.01: Excento.\n",
    "B - De 416,220.01 → 624,329.01 :Tasa: 15.0 % del excedente de RD$416,220.01  \n",
    "C - De 624,329.01 → 867,123.01 :Tasa: RD$31,216.00 más 20.0 % del excedente de RD$624,329.01  \n",
    "D - De 867,123.01 →            :Tasa: RD$79,776.00 más 25.0 % del excedente de RD$867,123.01  "
   ]
  },
  {
   "cell_type": "code",
   "execution_count": 1,
   "id": "16c6dc2c",
   "metadata": {},
   "outputs": [
    {
     "name": "stdout",
     "output_type": "stream",
     "text": [
      "Introduzca sueldo mensual: 3000*58\n",
      "           Sueldo mensual: 174,000.00\n",
      "             Sueldo anual: 2,088,000.00\n",
      " Impuesto mensual a pagar: 32,082.94\n",
      "           Impuesto anual: 384,995.25\n"
     ]
    }
   ],
   "source": [
    "# Función para calcular el impuesto según la categoría\n",
    "def calcular_impuesto(valor):\n",
    "    if valor <= 416220.01:\n",
    "        impuesto = 0\n",
    "    elif valor <= 624329.01:\n",
    "        impuesto = (valor - 416220.01) * 0.15\n",
    "    elif valor*12 <= 867123.01:\n",
    "        impuesto = 31216.00 + (valor - 624329.01) * 0.20\n",
    "    else:\n",
    "        impuesto = 79776.00 + (valor - 867123.01) * 0.25\n",
    "\n",
    "    return impuesto\n",
    "\n",
    "# Solicitar al usuario ingresar sueldo\n",
    "sueldo_mensual = input(\"Introduzca sueldo mensual: \")\n",
    "\n",
    "try:\n",
    "    # El input admite ecuaciones matematicas\n",
    "    valor_ingresado = eval(sueldo_mensual)\n",
    "    print(\"           Sueldo mensual: {:,.2f}\".format(valor_ingresado))\n",
    "    print(\"             Sueldo anual: {:,.2f}\".format(valor_ingresado*12))\n",
    "   \n",
    "    # Verificar que el valor ingresado sea válido\n",
    "    if valor_ingresado < 0:\n",
    "        print(\"Por favor, ingrese un valor positivo.\")\n",
    "    else:\n",
    "        # Calcular e imprimir el impuesto\n",
    "        impuesto_calculado = calcular_impuesto(valor_ingresado*12)\n",
    "        impuesto_mensual   = impuesto_calculado/ 12\n",
    "        print(\" Impuesto mensual a pagar: {:,.2f}\".format(impuesto_mensual))\n",
    "        print(\"           Impuesto anual: {:,.2f}\".format(impuesto_calculado))\n",
    "        # print(f\"El impuesto a pagar es RD${:.2f}\".impuesto_calculado)\n",
    "except (ValueError, SyntaxError):\n",
    "    print(\"Por favor, ingrese una expresión matemática válida.\")\n"
   ]
  },
  {
   "cell_type": "code",
   "execution_count": null,
   "id": "506ab43e",
   "metadata": {},
   "outputs": [],
   "source": []
  }
 ],
 "metadata": {
  "kernelspec": {
   "display_name": "Python 3 (ipykernel)",
   "language": "python",
   "name": "python3"
  },
  "language_info": {
   "codemirror_mode": {
    "name": "ipython",
    "version": 3
   },
   "file_extension": ".py",
   "mimetype": "text/x-python",
   "name": "python",
   "nbconvert_exporter": "python",
   "pygments_lexer": "ipython3",
   "version": "3.11.5"
  }
 },
 "nbformat": 4,
 "nbformat_minor": 5
}
