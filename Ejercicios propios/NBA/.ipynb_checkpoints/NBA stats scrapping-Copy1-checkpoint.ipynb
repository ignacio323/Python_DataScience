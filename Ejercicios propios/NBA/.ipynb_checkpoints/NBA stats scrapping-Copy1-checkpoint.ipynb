{
 "cells": [
  {
   "cell_type": "code",
   "execution_count": null,
   "id": "478788cd",
   "metadata": {},
   "outputs": [],
   "source": [
    "import pandas as pd\n",
    "import requests\n",
    "pd.set_option('display.max_columns', None) # so we can see all column in a wide Dataframe\n",
    "import time\n",
    "import numpy as np"
   ]
  },
  {
   "cell_type": "code",
   "execution_count": null,
   "id": "bb8e43cc",
   "metadata": {},
   "outputs": [],
   "source": [
    "test_url = 'https://stats.nba.com/stats/leagueLeaders?LeagueID=00&PerMode=Totals&Scope=S&Season=2012-13&SeasonType=Regular%20Season&StatCategory=PTS'"
   ]
  },
  {
   "cell_type": "code",
   "execution_count": null,
   "id": "50ffd1b0",
   "metadata": {},
   "outputs": [],
   "source": [
    "data = requests.get(url=test_url)\n",
    "r = data.json()  # Corrección: obtener los datos en formato JSON desde la respuesta"
   ]
  },
  {
   "cell_type": "code",
   "execution_count": null,
   "id": "ffc8a78d",
   "metadata": {},
   "outputs": [],
   "source": [
    "table_headers = r['resultSet']['headers']"
   ]
  },
  {
   "cell_type": "code",
   "execution_count": null,
   "id": "f629f72a",
   "metadata": {},
   "outputs": [],
   "source": [
    "print(table_headers)"
   ]
  },
  {
   "cell_type": "code",
   "execution_count": null,
   "id": "f16cb47d",
   "metadata": {},
   "outputs": [],
   "source": [
    "pd.DataFrame(r['resultSet']['rowSet'], columns = table_headers)"
   ]
  },
  {
   "cell_type": "code",
   "execution_count": null,
   "id": "4895ddf4",
   "metadata": {},
   "outputs": [],
   "source": [
    "temp_df1= pd.DataFrame(r['resultSet']['rowSet'], columns = table_headers)\n",
    "temp_df2 = pd.DataFrame({'Year' :['2012-13' for i in range(len(temp_df1))],\n",
    "                       'Season_type' :['Regular%20Season' for i in range(len(temp_df1))]})\n",
    "temp_df3 = pd.concat([temp_df2, temp_df1], axis = 1)       \n",
    "temp_df3"
   ]
  },
  {
   "cell_type": "code",
   "execution_count": null,
   "id": "7c3000a2",
   "metadata": {},
   "outputs": [],
   "source": [
    "del temp_df1, temp_df2, temp_df3"
   ]
  },
  {
   "cell_type": "code",
   "execution_count": null,
   "id": "5c8d2611",
   "metadata": {},
   "outputs": [],
   "source": [
    "df_cols = ['Years', 'Season_type'] + table_headers"
   ]
  },
  {
   "cell_type": "code",
   "execution_count": null,
   "id": "18d9a5bc",
   "metadata": {},
   "outputs": [],
   "source": [
    "pd.DataFrame(columns=df_cols)"
   ]
  },
  {
   "cell_type": "code",
   "execution_count": null,
   "id": "77aafab8",
   "metadata": {},
   "outputs": [],
   "source": [
    "df = pd.DataFrame(columns=df_cols)\n",
    "season_types = ['Regular%20Season', 'Playoffs']\n",
    "years = ['2012-13','2013-14','2014-15','2015-16','2016-17','2017-18','2018-19','2019-20','2020-21','2021-22']\n",
    "\n",
    "begin_loop = time.time()\n",
    "for y in years:\n",
    "    for s in season_types:\n",
    "        api_url = 'https://stats.nba.com/stats/leagueLeaders?LeagueID=00&PerMode=Totals&Scope=S&Season=' + y + '&SeasonType=' + s + '&StatCategory=PTS'\n",
    "        #api_url = 'https://stats.nba.com/stats/leagueLeaders?LeagueID=00&PerMode=Totals&Scope=S&Season=' + y + '&SeasonType=' + s + '&StatCategory=PTS'\n",
    "\n",
    "        # r = requests.get(url=api_url, headers=).json()\n",
    "        #########\n",
    "        headers = {\n",
    "            'User-Agent': 'TuAgenteDeUsuario',  # Reemplaza con tu agente de usuario\n",
    "            'Referer': 'https://stats.nba.com/',  # Reemplaza con el referente adecuado\n",
    "            # Otros encabezados si son necesarios\n",
    "        }\n",
    "\n",
    "        r = requests.get(url=api_url).json()\n",
    "\n",
    "        #########\n",
    "    \n",
    "        temp_df1= pd.DataFrame(r['resultSet']['rowSet'], columns = table_headers)\n",
    "        temp_df2 = pd.DataFrame({'Year' :['2012-13' for i in range(len(temp_df1))],\n",
    "                               'Season_type' :['Regular%20Season' for i in range(len(temp_df1))]})\n",
    "        temp_df3 = pd.concat([temp_df2, temp_df1], axis = 1)       \n",
    "        df = pd.concat([df, temp_df3], axis = 1)\n",
    "        print(f'finished scrapping data for the {y} {s}')\n",
    "        #lap = np.random().uniform(low=5, height=40)\n",
    "        lap = np.random.uniform(low=5, high=40)\n",
    "\n",
    "        print(f'waiting... {round(lap, 1)} seconds')\n",
    "\n",
    "        time.sleep(lag)\n",
    "print(f'process completd: total run time {round((time.time()-begin_loop)/60,2)}')\n",
    "df.to_excel('nba_player_data.xlsx', index = False)"
   ]
  },
  {
   "cell_type": "code",
   "execution_count": null,
   "id": "177ab20f",
   "metadata": {},
   "outputs": [
    {
     "name": "stdout",
     "output_type": "stream",
     "text": [
      "Error scrapping data for the 2012-13 Regular%20Season: 3 columns passed, passed data had 28 columns\n",
      "waiting... 36.8 seconds\n",
      "Error scrapping data for the 2012-13 Playoffs: 3 columns passed, passed data had 28 columns\n",
      "waiting... 6.9 seconds\n",
      "Error scrapping data for the 2013-14 Regular%20Season: 3 columns passed, passed data had 28 columns\n",
      "waiting... 32.5 seconds\n",
      "Error scrapping data for the 2013-14 Playoffs: 3 columns passed, passed data had 28 columns\n",
      "waiting... 30.9 seconds\n",
      "Error scrapping data for the 2014-15 Regular%20Season: 3 columns passed, passed data had 28 columns\n",
      "waiting... 32.6 seconds\n",
      "Error scrapping data for the 2014-15 Playoffs: 3 columns passed, passed data had 28 columns\n",
      "waiting... 23.6 seconds\n"
     ]
    }
   ],
   "source": [
    "import pandas as pd\n",
    "import requests\n",
    "import time\n",
    "import numpy as np\n",
    "\n",
    "table_headers = ['col1', 'col2', 'col3']  # Reemplaza con tus nombres de columnas\n",
    "\n",
    "season_types = ['Regular%20Season', 'Playoffs']\n",
    "years = ['2012-13', '2013-14', '2014-15', '2015-16', '2016-17', '2017-18', '2018-19', '2019-20', '2020-21', '2021-22']\n",
    "\n",
    "dataframes_list = []  # Lista para acumular los DataFrames\n",
    "\n",
    "begin_loop = time.time()\n",
    "\n",
    "for y in years:\n",
    "    for s in season_types:\n",
    "        api_url = f'https://stats.nba.com/stats/leagueLeaders?LeagueID=00&PerMode=Totals&Scope=S&Season={y}&SeasonType={s}&StatCategory=PTS'\n",
    "\n",
    "        headers = {\n",
    "            'User-Agent': 'TuAgenteDeUsuario',  # Reemplaza con tu agente de usuario\n",
    "            'Referer': 'https://stats.nba.com/',  # Reemplaza con el referente adecuado\n",
    "            # Otros encabezados si son necesarios\n",
    "        }\n",
    "\n",
    "        try:\n",
    "            r = requests.get(url=api_url).json()\n",
    "            temp_df1 = pd.DataFrame(r['resultSet']['rowSet'], columns=table_headers)\n",
    "            temp_df2 = pd.DataFrame({'Year': [y] * len(temp_df1), 'Season_type': [s] * len(temp_df1)})\n",
    "            temp_df3 = pd.concat([temp_df2, temp_df1], axis=1)\n",
    "            dataframes_list.append(temp_df3)\n",
    "            print(f'finished scrapping data for the {y} {s}')\n",
    "        except Exception as e:\n",
    "            print(f'Error scrapping data for the {y} {s}: {e}')\n",
    "\n",
    "        lap = np.random.uniform(low=5, high=40)\n",
    "        print(f'waiting... {round(lap, 1)} seconds')\n",
    "        time.sleep(lap)\n",
    "\n",
    "df = pd.concat(dataframes_list, axis=1)\n",
    "df.to_excel('nba_player_data.xlsx', index=False)\n",
    "\n",
    "print(f'process completed: total run time {round((time.time() - begin_loop) / 60, 2)} minutes')\n"
   ]
  },
  {
   "cell_type": "code",
   "execution_count": null,
   "id": "4400349d",
   "metadata": {},
   "outputs": [],
   "source": []
  }
 ],
 "metadata": {
  "kernelspec": {
   "display_name": "Python 3 (ipykernel)",
   "language": "python",
   "name": "python3"
  },
  "language_info": {
   "codemirror_mode": {
    "name": "ipython",
    "version": 3
   },
   "file_extension": ".py",
   "mimetype": "text/x-python",
   "name": "python",
   "nbconvert_exporter": "python",
   "pygments_lexer": "ipython3",
   "version": "3.11.5"
  }
 },
 "nbformat": 4,
 "nbformat_minor": 5
}
