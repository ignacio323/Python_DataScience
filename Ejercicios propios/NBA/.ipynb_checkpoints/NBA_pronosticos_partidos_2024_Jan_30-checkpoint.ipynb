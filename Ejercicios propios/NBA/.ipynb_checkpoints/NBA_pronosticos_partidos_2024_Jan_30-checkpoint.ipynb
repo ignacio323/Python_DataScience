{
 "cells": [
  {
   "cell_type": "code",
   "execution_count": null,
   "id": "28c45098",
   "metadata": {},
   "outputs": [
    {
     "name": "stdout",
     "output_type": "stream",
     "text": [
      "finished scraping data for 2012-13 Regular%20Season\n",
      "waiting... 10.8 seconds\n",
      "finished scraping data for 2012-13 Playoffs\n",
      "waiting... 15.9 seconds\n"
     ]
    }
   ],
   "source": [
    "import pandas as pd\n",
    "import requests\n",
    "import time\n",
    "import numpy as np\n",
    "\n",
    "# Replace with your actual column names\n",
    "default_table_headers = ['col1', 'col2', 'col3']\n",
    "\n",
    "season_types = ['Regular%20Season', 'Playoffs']\n",
    "years = ['2012-13', '2013-14', '2014-15', '2015-16', '2016-17', '2017-18', '2018-19', '2019-20', '2020-21', '2021-22']\n",
    "\n",
    "dataframes_list = []  # List to accumulate DataFrames\n",
    "\n",
    "begin_loop = time.time()\n",
    "\n",
    "for y in years:\n",
    "    for s in season_types:\n",
    "        api_url = f'https://stats.nba.com/stats/leagueLeaders?LeagueID=00&PerMode=Totals&Scope=S&Season={y}&SeasonType={s}&StatCategory=PTS'\n",
    "\n",
    "        headers = {\n",
    "            'User-Agent': 'Your User Agent',  # Replace with your user agent\n",
    "            'Referer': 'https://stats.nba.com/',  # Replace with the appropriate referrer\n",
    "            # Other headers if necessary\n",
    "        }\n",
    "\n",
    "        try:\n",
    "            r = requests.get(url=api_url, headers=headers).json()\n",
    "\n",
    "            # Dynamically extract column names from the response\n",
    "            columns = r['resultSet']['headers'] if 'resultSet' in r and 'headers' in r['resultSet'] else default_table_headers\n",
    "            \n",
    "            # Extract the relevant data from the response\n",
    "            data = r['resultSet']['rowSet'] if 'resultSet' in r and 'rowSet' in r['resultSet'] else []\n",
    "\n",
    "            # Create DataFrame\n",
    "            temp_df1 = pd.DataFrame(data, columns=columns)\n",
    "            temp_df2 = pd.DataFrame({'Year': [y] * len(temp_df1), 'Season_type': [s] * len(temp_df1)})\n",
    "            temp_df3 = pd.concat([temp_df2, temp_df1], axis=1)\n",
    "            dataframes_list.append(temp_df3)\n",
    "            print(f'finished scraping data for {y} {s}')\n",
    "        except Exception as e:\n",
    "            print(f'Error scraping data for {y} {s}: {e}')\n",
    "\n",
    "        lap = np.random.uniform(low=5, high=40)\n",
    "        print(f'waiting... {round(lap, 1)} seconds')\n",
    "        time.sleep(lap)\n",
    "\n",
    "df = pd.concat(dataframes_list, ignore_index=True)\n",
    "df.to_excel('nba_player_data.xlsx', index=False)\n",
    "\n",
    "print(f'process completed: total run time {round((time.time() - begin_loop) / 60, 2)} minutes')\n"
   ]
  },
  {
   "cell_type": "code",
   "execution_count": null,
   "id": "978094a9",
   "metadata": {},
   "outputs": [],
   "source": []
  }
 ],
 "metadata": {
  "kernelspec": {
   "display_name": "Python 3 (ipykernel)",
   "language": "python",
   "name": "python3"
  },
  "language_info": {
   "codemirror_mode": {
    "name": "ipython",
    "version": 3
   },
   "file_extension": ".py",
   "mimetype": "text/x-python",
   "name": "python",
   "nbconvert_exporter": "python",
   "pygments_lexer": "ipython3",
   "version": "3.11.5"
  }
 },
 "nbformat": 4,
 "nbformat_minor": 5
}
