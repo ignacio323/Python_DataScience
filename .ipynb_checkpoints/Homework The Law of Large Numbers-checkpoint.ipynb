{
 "cells": [
  {
   "cell_type": "code",
   "execution_count": null,
   "id": "d8d5cc2c",
   "metadata": {},
   "outputs": [],
   "source": [
    "# The Law of Large NUmbers\n",
    "# HINT 1: for i in range(100):\n",
    "import numpy as np               \n",
    "from numpy.random import randn   \n",
    "N = 100                         # specify sample size\n",
    "counter = 0                     # reset counter\n",
    "for i in randn(100):               # interate over random values\n",
    "    if (_ _ _ and _ _ _):        # check where iterated variable falls\n",
    "        counter += 1            # increase counter if condition is meet\n",
    "answer = counter / 100          # calculate hit-ratio\n",
    "print(answer)                   # print answer \n",
    "for i in range(5):  print(\"Hello Python\")"
   ]
  },
  {
   "cell_type": "code",
   "execution_count": null,
   "id": "fbe0d3de",
   "metadata": {},
   "outputs": [],
   "source": []
  }
 ],
 "metadata": {
  "kernelspec": {
   "display_name": "Python 3 (ipykernel)",
   "language": "python",
   "name": "python3"
  },
  "language_info": {
   "codemirror_mode": {
    "name": "ipython",
    "version": 3
   },
   "file_extension": ".py",
   "mimetype": "text/x-python",
   "name": "python",
   "nbconvert_exporter": "python",
   "pygments_lexer": "ipython3",
   "version": "3.11.5"
  }
 },
 "nbformat": 4,
 "nbformat_minor": 5
}
