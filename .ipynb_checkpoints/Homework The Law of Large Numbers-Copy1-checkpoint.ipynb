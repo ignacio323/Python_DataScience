{
 "cells": [
  {
   "cell_type": "code",
   "execution_count": 78,
   "id": "b3d4a02d",
   "metadata": {},
   "outputs": [
    {
     "name": "stdout",
     "output_type": "stream",
     "text": [
      "70.0%\n"
     ]
    }
   ],
   "source": [
    "# The Law of Large Numbers is statistic theorem that states that the sample mean (average) \n",
    "# of a random sample will converge to the population mean as the sample size becomes larger.\n",
    "# HINT 1: for i in range(100):\n",
    "import numpy as np               \n",
    "from numpy.random import randn   \n",
    "N = 100               # specify sample size\n",
    "counter = 0           # reset counter\n",
    "for i in randn(100):  # interate over random values\n",
    "    if -1 <i < 1:   # check where iterated variable falls\n",
    "        counter += 1  # increase counter if condition is meet\n",
    "answer = counter / N  # calculate hit-ratio\n",
    "print(\"{:.1%}\".format(answer)) # print answer"
   ]
  },
  {
   "cell_type": "code",
   "execution_count": null,
   "id": "4d2b68c0",
   "metadata": {},
   "outputs": [],
   "source": []
  },
  {
   "cell_type": "code",
   "execution_count": null,
   "id": "bbce49e3",
   "metadata": {},
   "outputs": [],
   "source": []
  },
  {
   "cell_type": "code",
   "execution_count": null,
   "id": "e848ee1b",
   "metadata": {},
   "outputs": [],
   "source": []
  }
 ],
 "metadata": {
  "kernelspec": {
   "display_name": "Python 3 (ipykernel)",
   "language": "python",
   "name": "python3"
  },
  "language_info": {
   "codemirror_mode": {
    "name": "ipython",
    "version": 3
   },
   "file_extension": ".py",
   "mimetype": "text/x-python",
   "name": "python",
   "nbconvert_exporter": "python",
   "pygments_lexer": "ipython3",
   "version": "3.11.5"
  }
 },
 "nbformat": 4,
 "nbformat_minor": 5
}
