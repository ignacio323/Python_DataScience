{
 "cells": [
  {
   "cell_type": "code",
   "execution_count": 2,
   "id": "656c678d",
   "metadata": {},
   "outputs": [],
   "source": [
    "# Test the Law of large Numbers for N random normally distributed number\n",
    "# With mean = 0, stdev = I:\n",
    "# Create a Python script that will count how many of these number fall between\n",
    "# -1 and divide by the total quantity of N\n",
    "# You know that E(X)=68.2%\n",
    "# Chech that Mean(Xn) -> E(X) as you rerun your script while increasing N"
   ]
  },
  {
   "cell_type": "code",
   "execution_count": 37,
   "id": "a08ace30",
   "metadata": {},
   "outputs": [
    {
     "data": {
      "text/plain": [
       "0.678"
      ]
     },
     "execution_count": 37,
     "metadata": {},
     "output_type": "execute_result"
    }
   ],
   "source": [
    "import numpy as np\n",
    "from numpy.random import randn\n",
    "\n",
    "counter=0\n",
    "randn(100)\n",
    "for i in randn(1000):\n",
    "    if i > -1 and i < 1:\n",
    "        counter  = counter + 1\n",
    "counter/1000"
   ]
  },
  {
   "cell_type": "code",
   "execution_count": null,
   "id": "ae9f22e2",
   "metadata": {},
   "outputs": [],
   "source": []
  }
 ],
 "metadata": {
  "kernelspec": {
   "display_name": "Python 3 (ipykernel)",
   "language": "python",
   "name": "python3"
  },
  "language_info": {
   "codemirror_mode": {
    "name": "ipython",
    "version": 3
   },
   "file_extension": ".py",
   "mimetype": "text/x-python",
   "name": "python",
   "nbconvert_exporter": "python",
   "pygments_lexer": "ipython3",
   "version": "3.11.5"
  }
 },
 "nbformat": 4,
 "nbformat_minor": 5
}
