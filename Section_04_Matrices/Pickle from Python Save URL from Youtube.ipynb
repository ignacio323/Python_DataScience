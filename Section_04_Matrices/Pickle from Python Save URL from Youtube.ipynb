{
 "cells": [
  {
   "cell_type": "code",
   "execution_count": 3,
   "id": "b178a421",
   "metadata": {},
   "outputs": [
    {
     "name": "stdout",
     "output_type": "stream",
     "text": [
      "Continuar viendo 'https://www.youtube.com/watch?v=-W9F__D3oY4' desde el minuto 5.\n"
     ]
    }
   ],
   "source": [
    "import pickle\n",
    "\n",
    "def guardar_estado_video(url, minuto):\n",
    "    estado = {'url': url, 'minuto': minuto}\n",
    "    with open('estado_video.pkl', 'wb') as archivo:\n",
    "        pickle.dump(estado, archivo)\n",
    "\n",
    "def cargar_estado_video():\n",
    "    try:\n",
    "        with open('estado_video.pkl', 'rb') as archivo:\n",
    "            estado = pickle.load(archivo)\n",
    "            return estado['url'], estado['minuto']\n",
    "    except FileNotFoundError:\n",
    "        return None, None\n",
    "\n",
    "# Ejemplo de uso\n",
    "url_video = 'https://www.youtube.com/watch?v=-W9F__D3oY4'\n",
    "minuto_actual = 5  # Aquí deberías obtener el minuto actual del video\n",
    "\n",
    "# Guardar estado actual del video\n",
    "guardar_estado_video(url_video, minuto_actual)\n",
    "\n",
    "# Cargar estado del video\n",
    "url_guardada, minuto_guardado = cargar_estado_video()\n",
    "\n",
    "if url_guardada is not None:\n",
    "    print(f\"Continuar viendo '{url_guardada}' desde el minuto {minuto_guardado}.\")\n",
    "\n",
    "# Este código guarda la URL y el minuto en el que dejaste el video en un archivo local. \n",
    "# Puedes modificarlo para adaptarlo a tus necesidades o explorar otras opciones \n",
    "# dependiendo de tus preferencias y el entorno en el que estás trabajando."
   ]
  },
  {
   "cell_type": "code",
   "execution_count": null,
   "id": "e7377158",
   "metadata": {},
   "outputs": [],
   "source": []
  }
 ],
 "metadata": {
  "kernelspec": {
   "display_name": "Python 3 (ipykernel)",
   "language": "python",
   "name": "python3"
  },
  "language_info": {
   "codemirror_mode": {
    "name": "ipython",
    "version": 3
   },
   "file_extension": ".py",
   "mimetype": "text/x-python",
   "name": "python",
   "nbconvert_exporter": "python",
   "pygments_lexer": "ipython3",
   "version": "3.11.5"
  }
 },
 "nbformat": 4,
 "nbformat_minor": 5
}
