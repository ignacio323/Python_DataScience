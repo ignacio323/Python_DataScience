{
 "cells": [
  {
   "cell_type": "code",
   "execution_count": 4,
   "metadata": {},
   "outputs": [],
   "source": [
    "\n",
    "#Data \n",
    "revenue = [14574.49, 7606.46, 8611.41, 9175.41, 8058.65, 8105.44, 11496.28, 9766.09, 10305.32, 14379.96, 10713.97, 15433.50]\n",
    "expenses = [12051.82, 5695.07, 12319.20, 12089.72, 8658.57, 840.20, 3285.73, 5821.12, 6976.93, 16618.61, 10054.37, 3803.96]"
   ]
  },
  {
   "cell_type": "code",
   "execution_count": 5,
   "metadata": {},
   "outputs": [
    {
     "name": "stdout",
     "output_type": "stream",
     "text": [
      "Profit month 01: 2,522\n",
      "Profit month 02: 1,911\n",
      "Profit month 03: -3,707\n",
      "Profit month 04: -2,914\n",
      "Profit month 05: -599\n",
      "Profit month 06: 7,265\n",
      "Profit month 07: 8,210\n",
      "Profit month 08: 3,944\n",
      "Profit month 09: 3,328\n",
      "Profit month 10: -2,238\n",
      "Profit month 11: 659\n",
      "Profit month 12: 11,629\n"
     ]
    }
   ],
   "source": [
    "#Solution\n",
    "#Calculate Profit As The Differences Between Revenue And Expenses\n",
    "ab = []\n",
    "for i in range(0, len(revenue)):\n",
    "    ab.append(revenue[i] - expenses[i])\n",
    "    profit = \"{:,}\".format(int(ab[i]))\n",
    "    print(f\"Profit month {i + 1:02d}: {profit}\")"
   ]
  },
  {
   "cell_type": "code",
   "execution_count": 199,
   "metadata": {},
   "outputs": [
    {
     "name": "stdout",
     "output_type": "stream",
     "text": [
      "Tax Month 01: 756\n",
      "Tax Month 02: 573\n",
      "Tax Month 03: -1112\n",
      "Tax Month 04: -874\n",
      "Tax Month 05: -179\n",
      "Tax Month 06: 2179\n",
      "Tax Month 07: 2463\n",
      "Tax Month 08: 1183\n",
      "Tax Month 09: 998\n",
      "Tax Month 10: -671\n",
      "Tax Month 11: 197\n",
      "Tax Month 12: 3488\n"
     ]
    }
   ],
   "source": [
    "#Calculate Tax As 30% Of Profit And Round To 2 Decimal Points\n",
    "# tax = [round(i * 0.30, 2) for i in len(expenses)]\n",
    "# tax\n",
    "tax = []\n",
    "for i in range(0, len(revenue)):\n",
    "    tax.append((revenue[i] - expenses[i])*0.30)\n",
    "    print(f\"Tax Month {i + 1:02d}: {int(tax[i])}\")\n",
    "    # profit = \"{:,}\".format(int(ab[i])) "
   ]
  },
  {
   "cell_type": "code",
   "execution_count": 200,
   "metadata": {},
   "outputs": [
    {
     "name": "stdout",
     "output_type": "stream",
     "text": [
      "Profit after tax month 01: 1,765\n",
      "Profit after tax month 02: 1,337\n",
      "Profit after tax month 03: -2,595\n",
      "Profit after tax month 04: -2,040\n",
      "Profit after tax month 05: -419\n",
      "Profit after tax month 06: 5,085\n",
      "Profit after tax month 07: 5,747\n",
      "Profit after tax month 08: 2,761\n",
      "Profit after tax month 09: 2,329\n",
      "Profit after tax month 10: -1,567\n",
      "Profit after tax month 11: 461\n",
      "Profit after tax month 12: 8,140\n"
     ]
    }
   ],
   "source": [
    "#Calculate Profit Remaining After Tax Is Deducted\n",
    "pat = []\n",
    "for i in range (0, len(revenue)):\n",
    "    pat.append(ab[i] - (ab[i] * 0.30))\n",
    "    formatted_pat = \"{:,}\".format(int(pat[i]))\n",
    "    print(f\"Profit after tax month {i + 1:02d}: {formatted_pat}\")"
   ]
  },
  {
   "cell_type": "code",
   "execution_count": 201,
   "metadata": {},
   "outputs": [
    {
     "name": "stdout",
     "output_type": "stream",
     "text": [
      "Profit Margin month 01: 12%\n",
      "Profit Margin month 02: 18%\n",
      "Profit Margin month 03: -30%\n",
      "Profit Margin month 04: -22%\n",
      "Profit Margin month 05: -5%\n",
      "Profit Margin month 06: 63%\n",
      "Profit Margin month 07: 50%\n",
      "Profit Margin month 08: 28%\n",
      "Profit Margin month 09: 23%\n",
      "Profit Margin month 10: -11%\n",
      "Profit Margin month 11: 4%\n",
      "Profit Margin month 12: 53%\n"
     ]
    }
   ],
   "source": [
    "#Calculate The Profit Margin As Profit After Tax Over Revenue\n",
    "#Round To 2 Decimal Points, Then Multiply By 100 To Get %\n",
    "profit_margin = []\n",
    "for i in range (0, len(revenue)):\n",
    "    profit_margin.append((pat[i] / revenue[i]) * 100)\n",
    "    formatted_profit_margin = \"{:.0f}%\".format(profit_margin[i])\n",
    "    print(f\"Profit Margin month {i + 1:02d}: {formatted_profit_margin}\")"
   ]
  },
  {
   "cell_type": "code",
   "execution_count": 202,
   "metadata": {},
   "outputs": [
    {
     "name": "stdout",
     "output_type": "stream",
     "text": [
      "1750.68\n"
     ]
    }
   ],
   "source": [
    "#Calculate The Mean Profit After Tax For The 12 Months\n",
    "mean_pat = sum(pat) / len(revenue)\n",
    "print(round(mean_pat, 2))"
   ]
  },
  {
   "cell_type": "code",
   "execution_count": 203,
   "metadata": {},
   "outputs": [
    {
     "name": "stdout",
     "output_type": "stream",
     "text": [
      "Good Months: [1, 6, 7, 8, 9, 12]\n"
     ]
    }
   ],
   "source": [
    "#Find The Months With Above-Mean Profit After Tax\n",
    "Good_months = [i + 1 for i in range(len(pat)) if pat[i] > mean_pat]\n",
    "print(\"Good Months:\", Good_months)"
   ]
  },
  {
   "cell_type": "code",
   "execution_count": 204,
   "metadata": {},
   "outputs": [
    {
     "name": "stdout",
     "output_type": "stream",
     "text": [
      "Bad Months: [2, 3, 4, 5, 10, 11]\n"
     ]
    }
   ],
   "source": [
    "#Bad Months Are The Opposite Of Good Months!\n",
    "bad_months = [i + 1 for i in range(len(pat)) if pat[i] < mean_pat]\n",
    "print(\"Bad Months:\", bad_months)"
   ]
  },
  {
   "cell_type": "code",
   "execution_count": 216,
   "metadata": {},
   "outputs": [
    {
     "name": "stdout",
     "output_type": "stream",
     "text": [
      "The best month is: 12, with 63% as the highest profit after tax.\n"
     ]
    }
   ],
   "source": [
    "#The Best Month Is Where Profit After Tax Was Equal To The Maximum\n",
    "best_month = []\n",
    "for i in range (0, len(Good_months)):\n",
    "     best_month.append(Good_months[i] == max(Good_months))\n",
    "print(f\"The best month is: {max(Good_months):02d}, with {max(profit_margin):.0f}% as the highest profit after tax.\")"
   ]
  },
  {
   "cell_type": "code",
   "execution_count": 224,
   "metadata": {},
   "outputs": [
    {
     "name": "stdout",
     "output_type": "stream",
     "text": [
      "The worst month is: 02, with -30% as the lowest profit after tax.\n"
     ]
    }
   ],
   "source": [
    "#The Worst Month Is Where Profit After Tax Was Equal To The Minimum\n",
    "worst_month = []\n",
    "for i in range (0, len(bad_months)):\n",
    "    worst_month.append(bad_months[i] == min(bad_months))\n",
    "print(f\"The worst month is: {min(bad_months):02d}, with {min(profit_margin):.0f}% as the lowest profit after tax.\")"
   ]
  },
  {
   "cell_type": "raw",
   "metadata": {},
   "source": [
    "# Convert All Calculations To Units Of One Thousand Dollars\n",
    "revenue_1000 = [round(i,0) for i in revenue]\n",
    "expenses_1000 = [round(i,0) for i in expenses]\n",
    "profit_1000 = [round(i,0) for i in profit]\n",
    "pat_1000 = [round(pat, 0) for i in pat]\n",
    "\n",
    "# revenue_1000 = [int(i) for i in revenue]\n",
    "# expenses_1000 = [int(i) for i in expenses]\n",
    "# profit_1000 = [int(i) for i in profit]\n",
    "# profit_after_tax_1000 = [int(i) for i in pat]\n",
    "# ABAJO\n",
    "# Convert All Calculations To Units Of One Thousand Dollars\n",
    "revenue_1000 = [int(round(i, 0)) for i in revenue]\n",
    "expenses_1000 = [int(round(i, 0)) for i in expenses]\n",
    "profit_1000 = [int(round(i, 0)) for i in profit]\n",
    "profit_after_tax_1000 = [int(round(i, 0)) for i in pat]\n"
   ]
  },
  {
   "cell_type": "code",
   "execution_count": 13,
   "metadata": {},
   "outputs": [
    {
     "name": "stdout",
     "output_type": "stream",
     "text": [
      "['a', 'b', 'c', 'd', 'e', 'f']\n",
      "['a', 'b', 'c', 'd', 'e', 'f']\n",
      "['f', 'e', 'd', 'c', 'b', 'a']\n",
      "['a']\n"
     ]
    }
   ],
   "source": [
    "l = [20, 'a', 21, 'b', 22, 'c', 23, 'd', 24, 'e', 25, 'f']\n",
    "print(l[1::2])\n",
    "print(l[1:12:2])\n",
    "print(l[-1:-12:-2])\n",
    "print(l[-11:2])"
   ]
  },
  {
   "cell_type": "code",
   "execution_count": 215,
   "metadata": {},
   "outputs": [
    {
     "name": "stdout",
     "output_type": "stream",
     "text": [
      "Revenue :\n"
     ]
    },
    {
     "ename": "NameError",
     "evalue": "name 'revenue_1000' is not defined",
     "output_type": "error",
     "traceback": [
      "\u001b[1;31m---------------------------------------------------------------------------\u001b[0m",
      "\u001b[1;31mNameError\u001b[0m                                 Traceback (most recent call last)",
      "Cell \u001b[1;32mIn[215], line 3\u001b[0m\n\u001b[0;32m      1\u001b[0m \u001b[38;5;66;03m#Print Results\u001b[39;00m\n\u001b[0;32m      2\u001b[0m \u001b[38;5;28mprint\u001b[39m (\u001b[38;5;124m\"\u001b[39m\u001b[38;5;124mRevenue :\u001b[39m\u001b[38;5;124m\"\u001b[39m) \n\u001b[1;32m----> 3\u001b[0m \u001b[38;5;28mprint\u001b[39m (revenue_1000)\n\u001b[0;32m      4\u001b[0m \u001b[38;5;28mprint\u001b[39m (\u001b[38;5;124m\"\u001b[39m\u001b[38;5;124mExpenses :\u001b[39m\u001b[38;5;124m\"\u001b[39m) \n\u001b[0;32m      5\u001b[0m \u001b[38;5;28mprint\u001b[39m (expenses_1000)\n",
      "\u001b[1;31mNameError\u001b[0m: name 'revenue_1000' is not defined"
     ]
    }
   ],
   "source": [
    "#Print Results\n",
    "print (\"Revenue :\") \n",
    "print (revenue_1000)\n",
    "print (\"Expenses :\") \n",
    "print (expenses_1000)\n",
    "print (\"Profit :\")\n",
    "print(profit_1000)\n",
    "print (\"Profit after tax :\")\n",
    "print (profit_after_tax_1000)\n",
    "print (\"Profit margin :\")\n",
    "print (profit_margin)\n",
    "print (\"Good months :\")\n",
    "print (good_months)\n",
    "print (\"Bad months :\")\n",
    "print (bad_months)\n",
    "print (\"Best month :\")\n",
    "print (best_month)\n",
    "print (\"Worst month :\")\n",
    "print (worst_month)"
   ]
  }
 ],
 "metadata": {
  "anaconda-cloud": {},
  "kernelspec": {
   "display_name": "Python 3 (ipykernel)",
   "language": "python",
   "name": "python3"
  },
  "language_info": {
   "codemirror_mode": {
    "name": "ipython",
    "version": 3
   },
   "file_extension": ".py",
   "mimetype": "text/x-python",
   "name": "python",
   "nbconvert_exporter": "python",
   "pygments_lexer": "ipython3",
   "version": "3.11.5"
  }
 },
 "nbformat": 4,
 "nbformat_minor": 1
}
