{
 "cells": [
  {
   "cell_type": "code",
   "execution_count": 2,
   "id": "5772788f",
   "metadata": {},
   "outputs": [],
   "source": [
    "MyFirstList = [3, 45, 56, 732]"
   ]
  },
  {
   "cell_type": "code",
   "execution_count": 3,
   "id": "ac0ffca1",
   "metadata": {},
   "outputs": [
    {
     "data": {
      "text/plain": [
       "[3, 45, 56, 732]"
      ]
     },
     "execution_count": 3,
     "metadata": {},
     "output_type": "execute_result"
    }
   ],
   "source": [
    "MyFirstList"
   ]
  },
  {
   "cell_type": "code",
   "execution_count": 4,
   "id": "57804661",
   "metadata": {},
   "outputs": [
    {
     "data": {
      "text/plain": [
       "list"
      ]
     },
     "execution_count": 4,
     "metadata": {},
     "output_type": "execute_result"
    }
   ],
   "source": [
    "type(MyFirstList)"
   ]
  },
  {
   "cell_type": "code",
   "execution_count": 20,
   "id": "36a08be0",
   "metadata": {},
   "outputs": [],
   "source": [
    "l2 = [\"hello\", 24, True, 55.3]"
   ]
  },
  {
   "cell_type": "code",
   "execution_count": 19,
   "id": "a47d3a10",
   "metadata": {},
   "outputs": [
    {
     "data": {
      "text/plain": [
       "['hello', 24, True, 55.3]"
      ]
     },
     "execution_count": 19,
     "metadata": {},
     "output_type": "execute_result"
    }
   ],
   "source": [
    "l2"
   ]
  },
  {
   "cell_type": "code",
   "execution_count": 21,
   "id": "c78a1671",
   "metadata": {},
   "outputs": [],
   "source": [
    "# ---"
   ]
  },
  {
   "cell_type": "code",
   "execution_count": 22,
   "id": "f26ba492",
   "metadata": {},
   "outputs": [
    {
     "data": {
      "text/plain": [
       "range(0, 15)"
      ]
     },
     "execution_count": 22,
     "metadata": {},
     "output_type": "execute_result"
    }
   ],
   "source": [
    "range(15) # Python 3"
   ]
  },
  {
   "cell_type": "code",
   "execution_count": 23,
   "id": "ffacccd5",
   "metadata": {},
   "outputs": [
    {
     "data": {
      "text/plain": [
       "[0, 1, 2, 3, 4, 5, 6, 7, 8, 9, 10, 11, 12, 13, 14]"
      ]
     },
     "execution_count": 23,
     "metadata": {},
     "output_type": "execute_result"
    }
   ],
   "source": [
    "list(range(15))"
   ]
  },
  {
   "cell_type": "code",
   "execution_count": 24,
   "id": "984d34f2",
   "metadata": {},
   "outputs": [
    {
     "data": {
      "text/plain": [
       "[0, 1, 2, 3, 4, 5, 6, 7]"
      ]
     },
     "execution_count": 24,
     "metadata": {},
     "output_type": "execute_result"
    }
   ],
   "source": [
    "x = [0, 1, 2, 3, 4, 5, 6, 7]\n",
    "x"
   ]
  },
  {
   "cell_type": "code",
   "execution_count": 25,
   "id": "21f18488",
   "metadata": {},
   "outputs": [],
   "source": [
    "y = list(range(8))"
   ]
  },
  {
   "cell_type": "code",
   "execution_count": 26,
   "id": "c2f3a3b9",
   "metadata": {},
   "outputs": [
    {
     "data": {
      "text/plain": [
       "[0, 1, 2, 3, 4, 5, 6, 7]"
      ]
     },
     "execution_count": 26,
     "metadata": {},
     "output_type": "execute_result"
    }
   ],
   "source": [
    "y"
   ]
  },
  {
   "cell_type": "code",
   "execution_count": 27,
   "id": "58f429a6",
   "metadata": {},
   "outputs": [],
   "source": [
    "z= list(range(1,8))"
   ]
  },
  {
   "cell_type": "code",
   "execution_count": 28,
   "id": "c049a2dc",
   "metadata": {},
   "outputs": [
    {
     "data": {
      "text/plain": [
       "[1, 2, 3, 4, 5, 6, 7]"
      ]
     },
     "execution_count": 28,
     "metadata": {},
     "output_type": "execute_result"
    }
   ],
   "source": [
    "z"
   ]
  },
  {
   "cell_type": "code",
   "execution_count": 29,
   "id": "ef92e4ad",
   "metadata": {},
   "outputs": [],
   "source": [
    "z2= list(range(100,120))"
   ]
  },
  {
   "cell_type": "code",
   "execution_count": 31,
   "id": "832d1464",
   "metadata": {},
   "outputs": [],
   "source": [
    "w = list(range(100,111,2))"
   ]
  },
  {
   "cell_type": "code",
   "execution_count": 32,
   "id": "a6ff9c30",
   "metadata": {},
   "outputs": [
    {
     "data": {
      "text/plain": [
       "[100, 102, 104, 106, 108, 110]"
      ]
     },
     "execution_count": 32,
     "metadata": {},
     "output_type": "execute_result"
    }
   ],
   "source": [
    "w"
   ]
  },
  {
   "cell_type": "code",
   "execution_count": 33,
   "id": "0dc60a32",
   "metadata": {},
   "outputs": [],
   "source": [
    "w2 = list(range(100,201,10))"
   ]
  },
  {
   "cell_type": "code",
   "execution_count": 34,
   "id": "79a03cb9",
   "metadata": {},
   "outputs": [
    {
     "data": {
      "text/plain": [
       "[100, 110, 120, 130, 140, 150, 160, 170, 180, 190, 200]"
      ]
     },
     "execution_count": 34,
     "metadata": {},
     "output_type": "execute_result"
    }
   ],
   "source": [
    "w2"
   ]
  },
  {
   "cell_type": "code",
   "execution_count": 35,
   "id": "f113e923",
   "metadata": {},
   "outputs": [],
   "source": [
    "w = ['a','b','c','d','e']"
   ]
  },
  {
   "cell_type": "code",
   "execution_count": 36,
   "id": "032b91b0",
   "metadata": {},
   "outputs": [
    {
     "data": {
      "text/plain": [
       "'a'"
      ]
     },
     "execution_count": 36,
     "metadata": {},
     "output_type": "execute_result"
    }
   ],
   "source": [
    "w[0]"
   ]
  },
  {
   "cell_type": "code",
   "execution_count": 37,
   "id": "0848bb8d",
   "metadata": {},
   "outputs": [
    {
     "data": {
      "text/plain": [
       "'b'"
      ]
     },
     "execution_count": 37,
     "metadata": {},
     "output_type": "execute_result"
    }
   ],
   "source": [
    "w[1]"
   ]
  },
  {
   "cell_type": "code",
   "execution_count": 38,
   "id": "b72eaab8",
   "metadata": {},
   "outputs": [
    {
     "data": {
      "text/plain": [
       "'c'"
      ]
     },
     "execution_count": 38,
     "metadata": {},
     "output_type": "execute_result"
    }
   ],
   "source": [
    "w[2]"
   ]
  },
  {
   "cell_type": "code",
   "execution_count": 40,
   "id": "62c6b5f2",
   "metadata": {},
   "outputs": [
    {
     "data": {
      "text/plain": [
       "'e'"
      ]
     },
     "execution_count": 40,
     "metadata": {},
     "output_type": "execute_result"
    }
   ],
   "source": [
    "w[4]"
   ]
  },
  {
   "cell_type": "code",
   "execution_count": 41,
   "id": "235b1446",
   "metadata": {},
   "outputs": [
    {
     "data": {
      "text/plain": [
       "['a', 'b', 'c', 'd', 'e']"
      ]
     },
     "execution_count": 41,
     "metadata": {},
     "output_type": "execute_result"
    }
   ],
   "source": [
    "w"
   ]
  },
  {
   "cell_type": "code",
   "execution_count": 42,
   "id": "f19b8184",
   "metadata": {},
   "outputs": [],
   "source": [
    "# 9   1   2   3   4"
   ]
  },
  {
   "cell_type": "code",
   "execution_count": 43,
   "id": "fe2c740d",
   "metadata": {},
   "outputs": [],
   "source": [
    "#-5  -4  -3  -2  -1"
   ]
  },
  {
   "cell_type": "code",
   "execution_count": 44,
   "id": "de35afcc",
   "metadata": {},
   "outputs": [
    {
     "data": {
      "text/plain": [
       "'e'"
      ]
     },
     "execution_count": 44,
     "metadata": {},
     "output_type": "execute_result"
    }
   ],
   "source": [
    "w[-1] # Different behavior to R"
   ]
  },
  {
   "cell_type": "code",
   "execution_count": 47,
   "id": "5274d4a9",
   "metadata": {},
   "outputs": [
    {
     "data": {
      "text/plain": [
       "'c'"
      ]
     },
     "execution_count": 47,
     "metadata": {},
     "output_type": "execute_result"
    }
   ],
   "source": [
    "w[-3]"
   ]
  },
  {
   "cell_type": "code",
   "execution_count": 48,
   "id": "d6117f11",
   "metadata": {},
   "outputs": [
    {
     "data": {
      "text/plain": [
       "'c'"
      ]
     },
     "execution_count": 48,
     "metadata": {},
     "output_type": "execute_result"
    }
   ],
   "source": [
    "w[2]"
   ]
  },
  {
   "cell_type": "code",
   "execution_count": 49,
   "id": "828ed85f",
   "metadata": {},
   "outputs": [],
   "source": [
    "w[2]= 63"
   ]
  },
  {
   "cell_type": "code",
   "execution_count": 50,
   "id": "52d1e080",
   "metadata": {},
   "outputs": [
    {
     "data": {
      "text/plain": [
       "['a', 'b', 63, 'd', 'e']"
      ]
     },
     "execution_count": 50,
     "metadata": {},
     "output_type": "execute_result"
    }
   ],
   "source": [
    "w"
   ]
  },
  {
   "cell_type": "code",
   "execution_count": 51,
   "id": "6b3a8f87",
   "metadata": {},
   "outputs": [],
   "source": [
    "w[4] = -1234.0000111"
   ]
  },
  {
   "cell_type": "code",
   "execution_count": 52,
   "id": "63cfb79d",
   "metadata": {},
   "outputs": [
    {
     "data": {
      "text/plain": [
       "['a', 'b', 63, 'd', -1234.0000111]"
      ]
     },
     "execution_count": 52,
     "metadata": {},
     "output_type": "execute_result"
    }
   ],
   "source": [
    "w"
   ]
  },
  {
   "cell_type": "code",
   "execution_count": 53,
   "id": "847aef8b",
   "metadata": {},
   "outputs": [],
   "source": [
    "letters = ['A','B','C','D','E','F','G','H','I','J']"
   ]
  },
  {
   "cell_type": "code",
   "execution_count": 54,
   "id": "ac26002b",
   "metadata": {},
   "outputs": [
    {
     "data": {
      "text/plain": [
       "['A', 'B', 'C', 'D', 'E', 'F', 'G', 'H', 'I', 'J']"
      ]
     },
     "execution_count": 54,
     "metadata": {},
     "output_type": "execute_result"
    }
   ],
   "source": [
    "letters"
   ]
  },
  {
   "cell_type": "code",
   "execution_count": 56,
   "id": "ace54783",
   "metadata": {},
   "outputs": [
    {
     "data": {
      "text/plain": [
       "['A', 'B', 'C', 'D', 'E', 'F', 'G', 'H', 'I', 'J']"
      ]
     },
     "execution_count": 56,
     "metadata": {},
     "output_type": "execute_result"
    }
   ],
   "source": [
    "letters[:]"
   ]
  },
  {
   "cell_type": "code",
   "execution_count": 59,
   "id": "2bd7389a",
   "metadata": {},
   "outputs": [
    {
     "data": {
      "text/plain": [
       "['C', 'D', 'E', 'F', 'G', 'H', 'I', 'J']"
      ]
     },
     "execution_count": 59,
     "metadata": {},
     "output_type": "execute_result"
    }
   ],
   "source": [
    "letters[2:]"
   ]
  },
  {
   "cell_type": "code",
   "execution_count": 60,
   "id": "5ad09ecc",
   "metadata": {},
   "outputs": [
    {
     "data": {
      "text/plain": [
       "['A', 'B', 'C', 'D', 'E', 'F', 'G']"
      ]
     },
     "execution_count": 60,
     "metadata": {},
     "output_type": "execute_result"
    }
   ],
   "source": [
    "letters[:7]"
   ]
  },
  {
   "cell_type": "code",
   "execution_count": 61,
   "id": "501014eb",
   "metadata": {},
   "outputs": [
    {
     "data": {
      "text/plain": [
       "['C', 'D', 'E', 'F', 'G']"
      ]
     },
     "execution_count": 61,
     "metadata": {},
     "output_type": "execute_result"
    }
   ],
   "source": [
    "letters[2:7]"
   ]
  },
  {
   "cell_type": "code",
   "execution_count": 62,
   "id": "b485e039",
   "metadata": {},
   "outputs": [
    {
     "data": {
      "text/plain": [
       "['C', 'D', 'E', 'F', 'G']"
      ]
     },
     "execution_count": 62,
     "metadata": {},
     "output_type": "execute_result"
    }
   ],
   "source": [
    "letters[-8:7]"
   ]
  },
  {
   "cell_type": "code",
   "execution_count": 63,
   "id": "ca49bbdc",
   "metadata": {},
   "outputs": [
    {
     "data": {
      "text/plain": [
       "['C', 'D', 'E', 'F', 'G']"
      ]
     },
     "execution_count": 63,
     "metadata": {},
     "output_type": "execute_result"
    }
   ],
   "source": [
    "letters[-8:-3]"
   ]
  },
  {
   "cell_type": "code",
   "execution_count": 64,
   "id": "ca9e8f5d",
   "metadata": {},
   "outputs": [],
   "source": [
    "#---- Advanced slicing"
   ]
  },
  {
   "cell_type": "code",
   "execution_count": 65,
   "id": "b29eb1a0",
   "metadata": {},
   "outputs": [
    {
     "data": {
      "text/plain": [
       "['C', 'D', 'E', 'F', 'G', 'H', 'I']"
      ]
     },
     "execution_count": 65,
     "metadata": {},
     "output_type": "execute_result"
    }
   ],
   "source": [
    "letters[2:9]"
   ]
  },
  {
   "cell_type": "code",
   "execution_count": 66,
   "id": "1f402a60",
   "metadata": {},
   "outputs": [
    {
     "data": {
      "text/plain": [
       "['C', 'E', 'G', 'I']"
      ]
     },
     "execution_count": 66,
     "metadata": {},
     "output_type": "execute_result"
    }
   ],
   "source": [
    "letters[2:9:2]"
   ]
  },
  {
   "cell_type": "code",
   "execution_count": 67,
   "id": "9bb871d8",
   "metadata": {},
   "outputs": [
    {
     "data": {
      "text/plain": [
       "['A', 'B', 'C', 'D', 'E', 'F', 'G', 'H', 'I', 'J']"
      ]
     },
     "execution_count": 67,
     "metadata": {},
     "output_type": "execute_result"
    }
   ],
   "source": [
    "letters"
   ]
  },
  {
   "cell_type": "code",
   "execution_count": 68,
   "id": "c4cd431f",
   "metadata": {},
   "outputs": [
    {
     "data": {
      "text/plain": [
       "['A', 'D', 'G', 'J']"
      ]
     },
     "execution_count": 68,
     "metadata": {},
     "output_type": "execute_result"
    }
   ],
   "source": [
    "letters[::3]"
   ]
  },
  {
   "cell_type": "code",
   "execution_count": 69,
   "id": "d99fe760",
   "metadata": {},
   "outputs": [
    {
     "data": {
      "text/plain": [
       "['J', 'H', 'F', 'D', 'B']"
      ]
     },
     "execution_count": 69,
     "metadata": {},
     "output_type": "execute_result"
    }
   ],
   "source": [
    "letters[::-2]"
   ]
  },
  {
   "cell_type": "code",
   "execution_count": 70,
   "id": "b0135937",
   "metadata": {},
   "outputs": [
    {
     "data": {
      "text/plain": [
       "['A', 'B', 'C', 'D', 'E', 'F', 'G', 'H']"
      ]
     },
     "execution_count": 70,
     "metadata": {},
     "output_type": "execute_result"
    }
   ],
   "source": [
    "letters[:-2:]"
   ]
  },
  {
   "cell_type": "code",
   "execution_count": 71,
   "id": "2a16c5df",
   "metadata": {},
   "outputs": [
    {
     "data": {
      "text/plain": [
       "['C', 'D', 'E', 'F', 'G']"
      ]
     },
     "execution_count": 71,
     "metadata": {},
     "output_type": "execute_result"
    }
   ],
   "source": [
    "letters[2:7:1]"
   ]
  },
  {
   "cell_type": "code",
   "execution_count": 72,
   "id": "9767150d",
   "metadata": {},
   "outputs": [
    {
     "data": {
      "text/plain": [
       "[]"
      ]
     },
     "execution_count": 72,
     "metadata": {},
     "output_type": "execute_result"
    }
   ],
   "source": [
    "letters[2:7:-1]"
   ]
  },
  {
   "cell_type": "code",
   "execution_count": 74,
   "id": "8726343c",
   "metadata": {},
   "outputs": [
    {
     "data": {
      "text/plain": [
       "['H', 'G', 'F', 'E', 'D']"
      ]
     },
     "execution_count": 74,
     "metadata": {},
     "output_type": "execute_result"
    }
   ],
   "source": [
    "letters[7:2:-1]"
   ]
  },
  {
   "cell_type": "code",
   "execution_count": 75,
   "id": "09d4a1c3",
   "metadata": {},
   "outputs": [
    {
     "data": {
      "text/plain": [
       "['G', 'F', 'E', 'D', 'C']"
      ]
     },
     "execution_count": 75,
     "metadata": {},
     "output_type": "execute_result"
    }
   ],
   "source": [
    "letters[6:1:-1]"
   ]
  },
  {
   "cell_type": "code",
   "execution_count": 76,
   "id": "38c6141a",
   "metadata": {},
   "outputs": [],
   "source": [
    "# tuple = inmutable list"
   ]
  },
  {
   "cell_type": "code",
   "execution_count": 77,
   "id": "c25f3fce",
   "metadata": {},
   "outputs": [],
   "source": [
    "t1 = (345,674,934)"
   ]
  },
  {
   "cell_type": "code",
   "execution_count": 78,
   "id": "5db67520",
   "metadata": {},
   "outputs": [
    {
     "data": {
      "text/plain": [
       "(345, 674, 934)"
      ]
     },
     "execution_count": 78,
     "metadata": {},
     "output_type": "execute_result"
    }
   ],
   "source": [
    "t1"
   ]
  },
  {
   "cell_type": "code",
   "execution_count": 79,
   "id": "edd84779",
   "metadata": {},
   "outputs": [
    {
     "data": {
      "text/plain": [
       "345"
      ]
     },
     "execution_count": 79,
     "metadata": {},
     "output_type": "execute_result"
    }
   ],
   "source": [
    "t1[0]"
   ]
  },
  {
   "cell_type": "code",
   "execution_count": 80,
   "id": "282fd57a",
   "metadata": {},
   "outputs": [
    {
     "data": {
      "text/plain": [
       "674"
      ]
     },
     "execution_count": 80,
     "metadata": {},
     "output_type": "execute_result"
    }
   ],
   "source": [
    "t1[1]"
   ]
  },
  {
   "cell_type": "code",
   "execution_count": 81,
   "id": "a37253c4",
   "metadata": {},
   "outputs": [
    {
     "ename": "TypeError",
     "evalue": "'tuple' object does not support item assignment",
     "output_type": "error",
     "traceback": [
      "\u001b[1;31m---------------------------------------------------------------------------\u001b[0m",
      "\u001b[1;31mTypeError\u001b[0m                                 Traceback (most recent call last)",
      "Cell \u001b[1;32mIn[81], line 1\u001b[0m\n\u001b[1;32m----> 1\u001b[0m t1[\u001b[38;5;241m1\u001b[39m] \u001b[38;5;241m=\u001b[39m \u001b[38;5;241m45\u001b[39m\n",
      "\u001b[1;31mTypeError\u001b[0m: 'tuple' object does not support item assignment"
     ]
    }
   ],
   "source": [
    "t1[1] = 45"
   ]
  },
  {
   "cell_type": "code",
   "execution_count": null,
   "id": "95fb85c7",
   "metadata": {},
   "outputs": [],
   "source": []
  }
 ],
 "metadata": {
  "kernelspec": {
   "display_name": "Python 3 (ipykernel)",
   "language": "python",
   "name": "python3"
  },
  "language_info": {
   "codemirror_mode": {
    "name": "ipython",
    "version": 3
   },
   "file_extension": ".py",
   "mimetype": "text/x-python",
   "name": "python",
   "nbconvert_exporter": "python",
   "pygments_lexer": "ipython3",
   "version": "3.11.5"
  }
 },
 "nbformat": 4,
 "nbformat_minor": 5
}
